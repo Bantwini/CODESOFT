{
  "metadata": {
    "kernelspec": {
      "language": "python",
      "display_name": "Python 3",
      "name": "python3"
    },
    "language_info": {
      "name": "python",
      "version": "3.10.13",
      "mimetype": "text/x-python",
      "codemirror_mode": {
        "name": "ipython",
        "version": 3
      },
      "pygments_lexer": "ipython3",
      "nbconvert_exporter": "python",
      "file_extension": ".py"
    },
    "kaggle": {
      "accelerator": "none",
      "dataSources": [
        {
          "sourceId": 2965537,
          "sourceType": "datasetVersion",
          "datasetId": 1818188
        }
      ],
      "dockerImageVersionId": 30732,
      "isInternetEnabled": false,
      "language": "python",
      "sourceType": "notebook",
      "isGpuEnabled": false
    },
    "colab": {
      "name": "Titanic Prediction ",
      "provenance": [],
      "include_colab_link": true
    }
  },
  "nbformat_minor": 0,
  "nbformat": 4,
  "cells": [
    {
      "cell_type": "markdown",
      "metadata": {
        "id": "view-in-github",
        "colab_type": "text"
      },
      "source": [
        "<a href=\"https://colab.research.google.com/github/Bantwini/CODESOFT/blob/main/Titanic_Prediction.ipynb\" target=\"_parent\"><img src=\"https://colab.research.google.com/assets/colab-badge.svg\" alt=\"Open In Colab\"/></a>"
      ]
    },
    {
      "source": [
        "\n",
        "# IMPORTANT: RUN THIS CELL IN ORDER TO IMPORT YOUR KAGGLE DATA SOURCES\n",
        "# TO THE CORRECT LOCATION (/kaggle/input) IN YOUR NOTEBOOK,\n",
        "# THEN FEEL FREE TO DELETE THIS CELL.\n",
        "# NOTE: THIS NOTEBOOK ENVIRONMENT DIFFERS FROM KAGGLE'S PYTHON\n",
        "# ENVIRONMENT SO THERE MAY BE MISSING LIBRARIES USED BY YOUR\n",
        "# NOTEBOOK.\n",
        "\n",
        "import os\n",
        "import sys\n",
        "from tempfile import NamedTemporaryFile\n",
        "from urllib.request import urlopen\n",
        "from urllib.parse import unquote, urlparse\n",
        "from urllib.error import HTTPError\n",
        "from zipfile import ZipFile\n",
        "import tarfile\n",
        "import shutil\n",
        "\n",
        "CHUNK_SIZE = 40960\n",
        "DATA_SOURCE_MAPPING = 'titanic-dataset:https%3A%2F%2Fstorage.googleapis.com%2Fkaggle-data-sets%2F1818188%2F2965537%2Fbundle%2Farchive.zip%3FX-Goog-Algorithm%3DGOOG4-RSA-SHA256%26X-Goog-Credential%3Dgcp-kaggle-com%2540kaggle-161607.iam.gserviceaccount.com%252F20240619%252Fauto%252Fstorage%252Fgoog4_request%26X-Goog-Date%3D20240619T102558Z%26X-Goog-Expires%3D259200%26X-Goog-SignedHeaders%3Dhost%26X-Goog-Signature%3D11b539bb666f1fee0ab1d9e1331abbaf9a10c147fa5bb62e50cf43d2e8273f8deaf643c5d8eb1fb20fb5b29b819e2fead1bd2dd2c85bba92b9cabc3b7385c9107b35e29e74cb648391551e5ed4ab5ec4064b78430daab23aebfe5641d7932931e98077e10eb1a03ff49015d34581b316478e1101118a461b8e9a551917660c42a9d57609863cc34ae084be8234e6cbbef1d7b62d508724db9d82c5fabc50cc27d2fce36e0483967ab15e30ae768bcf1a431dada64790c058099257757a3ac6b00f6093b92b104d4c21b90f99a33db80d5a505d40765593a440eae617c59d385da267c40637c3ba9ac9c3d74971f4315ad2fd00cc5fba53e67196bffe90a76b90'\n",
        "\n",
        "KAGGLE_INPUT_PATH='/kaggle/input'\n",
        "KAGGLE_WORKING_PATH='/kaggle/working'\n",
        "KAGGLE_SYMLINK='kaggle'\n",
        "\n",
        "!umount /kaggle/input/ 2> /dev/null\n",
        "shutil.rmtree('/kaggle/input', ignore_errors=True)\n",
        "os.makedirs(KAGGLE_INPUT_PATH, 0o777, exist_ok=True)\n",
        "os.makedirs(KAGGLE_WORKING_PATH, 0o777, exist_ok=True)\n",
        "\n",
        "try:\n",
        "  os.symlink(KAGGLE_INPUT_PATH, os.path.join(\"..\", 'input'), target_is_directory=True)\n",
        "except FileExistsError:\n",
        "  pass\n",
        "try:\n",
        "  os.symlink(KAGGLE_WORKING_PATH, os.path.join(\"..\", 'working'), target_is_directory=True)\n",
        "except FileExistsError:\n",
        "  pass\n",
        "\n",
        "for data_source_mapping in DATA_SOURCE_MAPPING.split(','):\n",
        "    directory, download_url_encoded = data_source_mapping.split(':')\n",
        "    download_url = unquote(download_url_encoded)\n",
        "    filename = urlparse(download_url).path\n",
        "    destination_path = os.path.join(KAGGLE_INPUT_PATH, directory)\n",
        "    try:\n",
        "        with urlopen(download_url) as fileres, NamedTemporaryFile() as tfile:\n",
        "            total_length = fileres.headers['content-length']\n",
        "            print(f'Downloading {directory}, {total_length} bytes compressed')\n",
        "            dl = 0\n",
        "            data = fileres.read(CHUNK_SIZE)\n",
        "            while len(data) > 0:\n",
        "                dl += len(data)\n",
        "                tfile.write(data)\n",
        "                done = int(50 * dl / int(total_length))\n",
        "                sys.stdout.write(f\"\\r[{'=' * done}{' ' * (50-done)}] {dl} bytes downloaded\")\n",
        "                sys.stdout.flush()\n",
        "                data = fileres.read(CHUNK_SIZE)\n",
        "            if filename.endswith('.zip'):\n",
        "              with ZipFile(tfile) as zfile:\n",
        "                zfile.extractall(destination_path)\n",
        "            else:\n",
        "              with tarfile.open(tfile.name) as tarfile:\n",
        "                tarfile.extractall(destination_path)\n",
        "            print(f'\\nDownloaded and uncompressed: {directory}')\n",
        "    except HTTPError as e:\n",
        "        print(f'Failed to load (likely expired) {download_url} to path {destination_path}')\n",
        "        continue\n",
        "    except OSError as e:\n",
        "        print(f'Failed to load {download_url} to path {destination_path}')\n",
        "        continue\n",
        "\n",
        "print('Data source import complete.')\n"
      ],
      "metadata": {
        "id": "pN3a9-YhCXUi",
        "outputId": "bd9b5671-c475-4afc-bd6b-f874c19347a7",
        "colab": {
          "base_uri": "https://localhost:8080/"
        }
      },
      "cell_type": "code",
      "outputs": [
        {
          "output_type": "stream",
          "name": "stdout",
          "text": [
            "Downloading titanic-dataset, 22564 bytes compressed\n",
            "\r[==================================================] 22564 bytes downloaded\n",
            "Downloaded and uncompressed: titanic-dataset\n",
            "Data source import complete.\n"
          ]
        }
      ],
      "execution_count": 1
    },
    {
      "cell_type": "code",
      "source": [
        "import pandas as pd\n",
        "import matplotlib.pyplot as plt\n",
        "from sklearn.model_selection import train_test_split\n",
        "from sklearn.metrics import r2_score\n",
        "from sklearn.metrics import mean_absolute_error\n",
        "from sklearn.ensemble import RandomForestClassifier"
      ],
      "metadata": {
        "_uuid": "8f2839f25d086af736a60e9eeb907d3b93b6e0e5",
        "_cell_guid": "b1076dfc-b9ad-4769-8c92-a6c4dae69d19",
        "execution": {
          "iopub.status.busy": "2024-06-19T10:18:21.940868Z",
          "iopub.execute_input": "2024-06-19T10:18:21.941362Z",
          "iopub.status.idle": "2024-06-19T10:18:21.946987Z",
          "shell.execute_reply.started": "2024-06-19T10:18:21.94133Z",
          "shell.execute_reply": "2024-06-19T10:18:21.945676Z"
        },
        "trusted": true,
        "id": "I8d6yRf3CXU3"
      },
      "execution_count": null,
      "outputs": []
    },
    {
      "cell_type": "code",
      "source": [
        "df= pd.read_csv(\"/kaggle/input/titanic-dataset/Titanic-Dataset.csv\")"
      ],
      "metadata": {
        "execution": {
          "iopub.status.busy": "2024-06-19T10:18:21.957604Z",
          "iopub.execute_input": "2024-06-19T10:18:21.958521Z",
          "iopub.status.idle": "2024-06-19T10:18:21.982293Z",
          "shell.execute_reply.started": "2024-06-19T10:18:21.958468Z",
          "shell.execute_reply": "2024-06-19T10:18:21.98112Z"
        },
        "trusted": true,
        "id": "IEBqFED6CXU7"
      },
      "execution_count": null,
      "outputs": []
    },
    {
      "cell_type": "markdown",
      "source": [
        "Path of the file to read"
      ],
      "metadata": {
        "id": "AHKpe5WvCXVC"
      }
    },
    {
      "cell_type": "code",
      "source": [
        "df"
      ],
      "metadata": {
        "execution": {
          "iopub.status.busy": "2024-06-19T10:18:21.993301Z",
          "iopub.execute_input": "2024-06-19T10:18:21.993666Z",
          "iopub.status.idle": "2024-06-19T10:18:22.012572Z",
          "shell.execute_reply.started": "2024-06-19T10:18:21.993638Z",
          "shell.execute_reply": "2024-06-19T10:18:22.011342Z"
        },
        "trusted": true,
        "id": "3ZrnmyXeCXVS"
      },
      "execution_count": null,
      "outputs": []
    },
    {
      "cell_type": "code",
      "source": [
        "df.shape"
      ],
      "metadata": {
        "execution": {
          "iopub.status.busy": "2024-06-19T10:18:22.016231Z",
          "iopub.execute_input": "2024-06-19T10:18:22.017315Z",
          "iopub.status.idle": "2024-06-19T10:18:22.02586Z",
          "shell.execute_reply.started": "2024-06-19T10:18:22.017251Z",
          "shell.execute_reply": "2024-06-19T10:18:22.024633Z"
        },
        "trusted": true,
        "id": "Hs-8uFDWCXVU"
      },
      "execution_count": null,
      "outputs": []
    },
    {
      "cell_type": "code",
      "source": [
        "df.head()"
      ],
      "metadata": {
        "execution": {
          "iopub.status.busy": "2024-06-19T10:18:22.05599Z",
          "iopub.execute_input": "2024-06-19T10:18:22.056376Z",
          "iopub.status.idle": "2024-06-19T10:18:22.072765Z",
          "shell.execute_reply.started": "2024-06-19T10:18:22.056346Z",
          "shell.execute_reply": "2024-06-19T10:18:22.071525Z"
        },
        "trusted": true,
        "id": "ZafjY9VdCXVX"
      },
      "execution_count": null,
      "outputs": []
    },
    {
      "cell_type": "code",
      "source": [
        "df.tail()"
      ],
      "metadata": {
        "execution": {
          "iopub.status.busy": "2024-06-19T10:18:22.084414Z",
          "iopub.execute_input": "2024-06-19T10:18:22.084778Z",
          "iopub.status.idle": "2024-06-19T10:18:22.101101Z",
          "shell.execute_reply.started": "2024-06-19T10:18:22.084753Z",
          "shell.execute_reply": "2024-06-19T10:18:22.099951Z"
        },
        "trusted": true,
        "id": "_IMALoC4CXVd"
      },
      "execution_count": null,
      "outputs": []
    },
    {
      "cell_type": "code",
      "source": [
        "df.describe()"
      ],
      "metadata": {
        "execution": {
          "iopub.status.busy": "2024-06-19T10:18:22.114425Z",
          "iopub.execute_input": "2024-06-19T10:18:22.11509Z",
          "iopub.status.idle": "2024-06-19T10:18:22.145948Z",
          "shell.execute_reply.started": "2024-06-19T10:18:22.115057Z",
          "shell.execute_reply": "2024-06-19T10:18:22.144828Z"
        },
        "trusted": true,
        "id": "d7lvME4QCXVf"
      },
      "execution_count": null,
      "outputs": []
    },
    {
      "cell_type": "code",
      "source": [
        "df.describe()"
      ],
      "metadata": {
        "execution": {
          "iopub.status.busy": "2024-06-19T10:18:22.154063Z",
          "iopub.execute_input": "2024-06-19T10:18:22.154461Z",
          "iopub.status.idle": "2024-06-19T10:18:22.185772Z",
          "shell.execute_reply.started": "2024-06-19T10:18:22.154431Z",
          "shell.execute_reply": "2024-06-19T10:18:22.184748Z"
        },
        "trusted": true,
        "id": "ruD2QqrnCXVo"
      },
      "execution_count": null,
      "outputs": []
    },
    {
      "cell_type": "code",
      "source": [
        "df.duplicated().sum()"
      ],
      "metadata": {
        "execution": {
          "iopub.status.busy": "2024-06-19T10:18:22.187533Z",
          "iopub.execute_input": "2024-06-19T10:18:22.187864Z",
          "iopub.status.idle": "2024-06-19T10:18:22.199041Z",
          "shell.execute_reply.started": "2024-06-19T10:18:22.187836Z",
          "shell.execute_reply": "2024-06-19T10:18:22.197982Z"
        },
        "trusted": true,
        "id": "ioc_ZP84CXVq"
      },
      "execution_count": null,
      "outputs": []
    },
    {
      "cell_type": "code",
      "source": [
        "Survived = df['Survived'].value_counts().reset_index()"
      ],
      "metadata": {
        "execution": {
          "iopub.status.busy": "2024-06-19T10:18:22.200815Z",
          "iopub.execute_input": "2024-06-19T10:18:22.201589Z",
          "iopub.status.idle": "2024-06-19T10:18:22.208243Z",
          "shell.execute_reply.started": "2024-06-19T10:18:22.201549Z",
          "shell.execute_reply": "2024-06-19T10:18:22.207077Z"
        },
        "trusted": true,
        "id": "asLUvaSVCXVr"
      },
      "execution_count": null,
      "outputs": []
    },
    {
      "cell_type": "code",
      "source": [
        "Survived"
      ],
      "metadata": {
        "execution": {
          "iopub.status.busy": "2024-06-19T10:18:22.225024Z",
          "iopub.execute_input": "2024-06-19T10:18:22.22542Z",
          "iopub.status.idle": "2024-06-19T10:18:22.234576Z",
          "shell.execute_reply.started": "2024-06-19T10:18:22.225391Z",
          "shell.execute_reply": "2024-06-19T10:18:22.233504Z"
        },
        "trusted": true,
        "id": "XVYROXKqCXVt"
      },
      "execution_count": null,
      "outputs": []
    },
    {
      "cell_type": "code",
      "source": [
        "data = {'Survived': ['Male - No', 'Male - Yes', 'Female - No', 'Female - Yes'],\n",
        "        'Counts': [100, 50, 30, 80]}\n",
        "Survived = pd.DataFrame(data)\n",
        "\n",
        "plt.figure(figsize=(8, 6))\n",
        "plt.bar(Survived['Survived'], Survived['Counts'],color=[\"Green\",\"Brown\",\"Blue\",\"Purple\"])\n",
        "plt.xticks(Survived['Survived'])\n",
        "plt.title('Survival Prediction')\n",
        "plt.xlabel('Gender and Survival ')\n",
        "plt.ylabel('Number of People')\n",
        "plt.show()"
      ],
      "metadata": {
        "execution": {
          "iopub.status.busy": "2024-06-19T10:18:22.240983Z",
          "iopub.execute_input": "2024-06-19T10:18:22.24196Z",
          "iopub.status.idle": "2024-06-19T10:18:22.476388Z",
          "shell.execute_reply.started": "2024-06-19T10:18:22.241922Z",
          "shell.execute_reply": "2024-06-19T10:18:22.47519Z"
        },
        "trusted": true,
        "id": "9d8Q5b6GCXVu"
      },
      "execution_count": null,
      "outputs": []
    },
    {
      "cell_type": "code",
      "source": [
        "df.drop(['PassengerId','Name','SibSp','Parch','Ticket','Cabin','Embarked'],axis='columns',inplace=True)\n",
        "df.head()"
      ],
      "metadata": {
        "execution": {
          "iopub.status.busy": "2024-06-19T10:18:22.478605Z",
          "iopub.execute_input": "2024-06-19T10:18:22.479055Z",
          "iopub.status.idle": "2024-06-19T10:18:22.493321Z",
          "shell.execute_reply.started": "2024-06-19T10:18:22.479015Z",
          "shell.execute_reply": "2024-06-19T10:18:22.492207Z"
        },
        "trusted": true,
        "id": "tNropwexCXVv"
      },
      "execution_count": null,
      "outputs": []
    },
    {
      "cell_type": "code",
      "source": [
        "inputs = df.drop('Survived',axis='columns')\n",
        "target = df['Survived']"
      ],
      "metadata": {
        "execution": {
          "iopub.status.busy": "2024-06-19T10:18:22.495096Z",
          "iopub.execute_input": "2024-06-19T10:18:22.495476Z",
          "iopub.status.idle": "2024-06-19T10:18:22.50618Z",
          "shell.execute_reply.started": "2024-06-19T10:18:22.495447Z",
          "shell.execute_reply": "2024-06-19T10:18:22.504802Z"
        },
        "trusted": true,
        "id": "BcilF00sCXV_"
      },
      "execution_count": null,
      "outputs": []
    },
    {
      "cell_type": "code",
      "source": [
        "target"
      ],
      "metadata": {
        "execution": {
          "iopub.status.busy": "2024-06-19T10:18:22.509274Z",
          "iopub.execute_input": "2024-06-19T10:18:22.51027Z",
          "iopub.status.idle": "2024-06-19T10:18:22.520987Z",
          "shell.execute_reply.started": "2024-06-19T10:18:22.510222Z",
          "shell.execute_reply": "2024-06-19T10:18:22.519924Z"
        },
        "trusted": true,
        "id": "bP_p-spWCXWA"
      },
      "execution_count": null,
      "outputs": []
    },
    {
      "cell_type": "code",
      "source": [
        "sex=pd.get_dummies(inputs.Sex)\n",
        "sex.head()"
      ],
      "metadata": {
        "execution": {
          "iopub.status.busy": "2024-06-19T10:18:22.522353Z",
          "iopub.execute_input": "2024-06-19T10:18:22.522678Z",
          "iopub.status.idle": "2024-06-19T10:18:22.538055Z",
          "shell.execute_reply.started": "2024-06-19T10:18:22.522652Z",
          "shell.execute_reply": "2024-06-19T10:18:22.536948Z"
        },
        "trusted": true,
        "id": "bYeSMltnCXWD"
      },
      "execution_count": null,
      "outputs": []
    },
    {
      "cell_type": "code",
      "source": [
        "inputs=pd.concat([inputs,sex],axis=\"columns\")\n",
        "inputs.head()"
      ],
      "metadata": {
        "execution": {
          "iopub.status.busy": "2024-06-19T10:18:22.539637Z",
          "iopub.execute_input": "2024-06-19T10:18:22.540107Z",
          "iopub.status.idle": "2024-06-19T10:18:22.557672Z",
          "shell.execute_reply.started": "2024-06-19T10:18:22.540069Z",
          "shell.execute_reply": "2024-06-19T10:18:22.556502Z"
        },
        "trusted": true,
        "id": "kAFnryo7CXWD"
      },
      "execution_count": null,
      "outputs": []
    },
    {
      "cell_type": "code",
      "source": [
        "inputs.drop([\"Sex\"],axis=\"columns\" ,inplace=True)"
      ],
      "metadata": {
        "execution": {
          "iopub.status.busy": "2024-06-19T10:18:22.558971Z",
          "iopub.execute_input": "2024-06-19T10:18:22.559415Z",
          "iopub.status.idle": "2024-06-19T10:18:22.568557Z",
          "shell.execute_reply.started": "2024-06-19T10:18:22.559376Z",
          "shell.execute_reply": "2024-06-19T10:18:22.567445Z"
        },
        "trusted": true,
        "id": "yUhG0iUFCXWE"
      },
      "execution_count": null,
      "outputs": []
    },
    {
      "cell_type": "code",
      "source": [
        "inputs.head()"
      ],
      "metadata": {
        "execution": {
          "iopub.status.busy": "2024-06-19T10:18:22.569991Z",
          "iopub.execute_input": "2024-06-19T10:18:22.570331Z",
          "iopub.status.idle": "2024-06-19T10:18:22.586126Z",
          "shell.execute_reply.started": "2024-06-19T10:18:22.570298Z",
          "shell.execute_reply": "2024-06-19T10:18:22.584768Z"
        },
        "trusted": true,
        "id": "aLLi3aayCXWE"
      },
      "execution_count": null,
      "outputs": []
    },
    {
      "cell_type": "code",
      "source": [
        "inputs.isna().sum()"
      ],
      "metadata": {
        "execution": {
          "iopub.status.busy": "2024-06-19T10:18:22.587556Z",
          "iopub.execute_input": "2024-06-19T10:18:22.58792Z",
          "iopub.status.idle": "2024-06-19T10:18:22.600557Z",
          "shell.execute_reply.started": "2024-06-19T10:18:22.58789Z",
          "shell.execute_reply": "2024-06-19T10:18:22.599394Z"
        },
        "trusted": true,
        "id": "Aqk9TswjCXWF"
      },
      "execution_count": null,
      "outputs": []
    },
    {
      "cell_type": "code",
      "source": [
        "inputs.Age = inputs.Age.fillna(inputs.Age.mean())\n",
        "inputs.head()"
      ],
      "metadata": {
        "execution": {
          "iopub.status.busy": "2024-06-19T10:18:22.604063Z",
          "iopub.execute_input": "2024-06-19T10:18:22.604562Z",
          "iopub.status.idle": "2024-06-19T10:18:22.619867Z",
          "shell.execute_reply.started": "2024-06-19T10:18:22.604528Z",
          "shell.execute_reply": "2024-06-19T10:18:22.618802Z"
        },
        "trusted": true,
        "id": "d_8Yo0FCCXWG"
      },
      "execution_count": null,
      "outputs": []
    },
    {
      "cell_type": "code",
      "source": [
        "inputs.info()"
      ],
      "metadata": {
        "execution": {
          "iopub.status.busy": "2024-06-19T10:18:22.621235Z",
          "iopub.execute_input": "2024-06-19T10:18:22.621661Z",
          "iopub.status.idle": "2024-06-19T10:18:22.639545Z",
          "shell.execute_reply.started": "2024-06-19T10:18:22.621622Z",
          "shell.execute_reply": "2024-06-19T10:18:22.638233Z"
        },
        "trusted": true,
        "id": "y2CDfzqTCXWG"
      },
      "execution_count": null,
      "outputs": []
    },
    {
      "cell_type": "code",
      "source": [
        "inputs.isna().sum()"
      ],
      "metadata": {
        "execution": {
          "iopub.status.busy": "2024-06-19T10:18:22.640765Z",
          "iopub.execute_input": "2024-06-19T10:18:22.641214Z",
          "iopub.status.idle": "2024-06-19T10:18:22.65519Z",
          "shell.execute_reply.started": "2024-06-19T10:18:22.641172Z",
          "shell.execute_reply": "2024-06-19T10:18:22.654096Z"
        },
        "trusted": true,
        "id": "W8G-cBGQCXWH"
      },
      "execution_count": null,
      "outputs": []
    },
    {
      "cell_type": "code",
      "source": [
        "counts = df.groupby(['Survived', 'Sex']). size().unstack().fillna(0)\n",
        "\n",
        "#This determines the width of the bar\n",
        "bar_width = 0.35\n",
        "index = counts.index\n",
        "\n",
        "fig, ax = plt.subplots()\n",
        "\n",
        "#Plot bars for each gender\n",
        "bar1 = ax.bar(index - bar_width/2, counts['male'], bar_width, label='male')\n",
        "bar2 = ax.bar(index + bar_width/2, counts['female'], bar_width, label='female')\n",
        "\n",
        "\n",
        "#Setting Labels and tittle\n",
        "ax.set_xlabel('Survived')\n",
        "ax.set_ylabel('Count')\n",
        "ax.set_title('Survival Count by Gender')\n",
        "ax.set_xticks(index)\n",
        "ax.set_xticklabels(['Not Survived', 'Survived'])\n",
        "ax.legend()\n",
        "\n",
        "#Displaying the plot\n",
        "plt.show()\n",
        "\n"
      ],
      "metadata": {
        "execution": {
          "iopub.status.busy": "2024-06-19T10:18:22.656521Z",
          "iopub.execute_input": "2024-06-19T10:18:22.657449Z",
          "iopub.status.idle": "2024-06-19T10:18:22.840862Z",
          "shell.execute_reply.started": "2024-06-19T10:18:22.657407Z",
          "shell.execute_reply": "2024-06-19T10:18:22.83977Z"
        },
        "trusted": true,
        "id": "4QnR77koCXWH"
      },
      "execution_count": null,
      "outputs": []
    },
    {
      "cell_type": "code",
      "source": [
        "X_train, X_test, y_train, y_test = train_test_split(inputs, target, test_size=0.2)"
      ],
      "metadata": {
        "execution": {
          "iopub.status.busy": "2024-06-19T10:18:22.842068Z",
          "iopub.execute_input": "2024-06-19T10:18:22.842392Z",
          "iopub.status.idle": "2024-06-19T10:18:22.850457Z",
          "shell.execute_reply.started": "2024-06-19T10:18:22.842364Z",
          "shell.execute_reply": "2024-06-19T10:18:22.849368Z"
        },
        "trusted": true,
        "id": "1h9TFZnaCXWI"
      },
      "execution_count": null,
      "outputs": []
    },
    {
      "cell_type": "code",
      "source": [
        "X_train"
      ],
      "metadata": {
        "execution": {
          "iopub.status.busy": "2024-06-19T10:18:22.851751Z",
          "iopub.execute_input": "2024-06-19T10:18:22.852061Z",
          "iopub.status.idle": "2024-06-19T10:18:22.872654Z",
          "shell.execute_reply.started": "2024-06-19T10:18:22.852035Z",
          "shell.execute_reply": "2024-06-19T10:18:22.871354Z"
        },
        "trusted": true,
        "id": "_ROVIzXJCXWI"
      },
      "execution_count": null,
      "outputs": []
    },
    {
      "cell_type": "code",
      "source": [
        "X_test"
      ],
      "metadata": {
        "execution": {
          "iopub.status.busy": "2024-06-19T10:18:22.873943Z",
          "iopub.execute_input": "2024-06-19T10:18:22.874445Z",
          "iopub.status.idle": "2024-06-19T10:18:22.890798Z",
          "shell.execute_reply.started": "2024-06-19T10:18:22.874403Z",
          "shell.execute_reply": "2024-06-19T10:18:22.889717Z"
        },
        "trusted": true,
        "id": "CmxxB7d_CXWJ"
      },
      "execution_count": null,
      "outputs": []
    },
    {
      "cell_type": "code",
      "source": [
        "y_train"
      ],
      "metadata": {
        "execution": {
          "iopub.status.busy": "2024-06-19T10:18:22.892262Z",
          "iopub.execute_input": "2024-06-19T10:18:22.89261Z",
          "iopub.status.idle": "2024-06-19T10:18:22.903573Z",
          "shell.execute_reply.started": "2024-06-19T10:18:22.892582Z",
          "shell.execute_reply": "2024-06-19T10:18:22.902472Z"
        },
        "trusted": true,
        "id": "Nq9c552oCXWK"
      },
      "execution_count": null,
      "outputs": []
    },
    {
      "cell_type": "code",
      "source": [
        "y_test"
      ],
      "metadata": {
        "execution": {
          "iopub.status.busy": "2024-06-19T10:18:22.905167Z",
          "iopub.execute_input": "2024-06-19T10:18:22.90577Z",
          "iopub.status.idle": "2024-06-19T10:18:22.916768Z",
          "shell.execute_reply.started": "2024-06-19T10:18:22.905737Z",
          "shell.execute_reply": "2024-06-19T10:18:22.915623Z"
        },
        "trusted": true,
        "id": "sxjnajVeCXWL"
      },
      "execution_count": null,
      "outputs": []
    },
    {
      "cell_type": "code",
      "source": [
        "inputs.corr()"
      ],
      "metadata": {
        "execution": {
          "iopub.status.busy": "2024-06-19T10:18:22.91818Z",
          "iopub.execute_input": "2024-06-19T10:18:22.919201Z",
          "iopub.status.idle": "2024-06-19T10:18:22.935039Z",
          "shell.execute_reply.started": "2024-06-19T10:18:22.919135Z",
          "shell.execute_reply": "2024-06-19T10:18:22.933871Z"
        },
        "trusted": true,
        "id": "_l168MZjCXWN"
      },
      "execution_count": null,
      "outputs": []
    },
    {
      "cell_type": "code",
      "source": [
        "import seaborn as sns"
      ],
      "metadata": {
        "execution": {
          "iopub.status.busy": "2024-06-19T10:18:22.939812Z",
          "iopub.execute_input": "2024-06-19T10:18:22.940242Z",
          "iopub.status.idle": "2024-06-19T10:18:22.9453Z",
          "shell.execute_reply.started": "2024-06-19T10:18:22.940208Z",
          "shell.execute_reply": "2024-06-19T10:18:22.94421Z"
        },
        "trusted": true,
        "id": "BhqxyAkXCXWO"
      },
      "execution_count": null,
      "outputs": []
    },
    {
      "cell_type": "code",
      "source": [
        "sns.heatmap(inputs.corr(), annot=True, cmap='cool', fmt= \".2f\")"
      ],
      "metadata": {
        "execution": {
          "iopub.status.busy": "2024-06-19T10:18:22.94656Z",
          "iopub.execute_input": "2024-06-19T10:18:22.946927Z",
          "iopub.status.idle": "2024-06-19T10:18:23.335794Z",
          "shell.execute_reply.started": "2024-06-19T10:18:22.9469Z",
          "shell.execute_reply": "2024-06-19T10:18:23.334744Z"
        },
        "trusted": true,
        "id": "OZqSM7gHCXWO"
      },
      "execution_count": null,
      "outputs": []
    },
    {
      "cell_type": "code",
      "source": [
        "model=RandomForestClassifier()"
      ],
      "metadata": {
        "execution": {
          "iopub.status.busy": "2024-06-19T10:18:23.337663Z",
          "iopub.execute_input": "2024-06-19T10:18:23.33799Z",
          "iopub.status.idle": "2024-06-19T10:18:23.342215Z",
          "shell.execute_reply.started": "2024-06-19T10:18:23.337963Z",
          "shell.execute_reply": "2024-06-19T10:18:23.341198Z"
        },
        "trusted": true,
        "id": "37qr3Z4gCXWP"
      },
      "execution_count": null,
      "outputs": []
    },
    {
      "cell_type": "code",
      "source": [
        "model.fit(X_train,y_train)"
      ],
      "metadata": {
        "execution": {
          "iopub.status.busy": "2024-06-19T10:18:23.343662Z",
          "iopub.execute_input": "2024-06-19T10:18:23.344983Z",
          "iopub.status.idle": "2024-06-19T10:18:23.567243Z",
          "shell.execute_reply.started": "2024-06-19T10:18:23.344945Z",
          "shell.execute_reply": "2024-06-19T10:18:23.566229Z"
        },
        "trusted": true,
        "id": "WhkGm9DICXWQ"
      },
      "execution_count": null,
      "outputs": []
    },
    {
      "cell_type": "code",
      "source": [
        "model.score(X_test,y_test)"
      ],
      "metadata": {
        "execution": {
          "iopub.status.busy": "2024-06-19T10:18:23.568582Z",
          "iopub.execute_input": "2024-06-19T10:18:23.568978Z",
          "iopub.status.idle": "2024-06-19T10:18:23.589466Z",
          "shell.execute_reply.started": "2024-06-19T10:18:23.568944Z",
          "shell.execute_reply": "2024-06-19T10:18:23.588235Z"
        },
        "trusted": true,
        "id": "KSu2WybpCXWR"
      },
      "execution_count": null,
      "outputs": []
    },
    {
      "cell_type": "code",
      "source": [
        "pre=model.predict(X_test)"
      ],
      "metadata": {
        "execution": {
          "iopub.status.busy": "2024-06-19T10:18:23.590742Z",
          "iopub.execute_input": "2024-06-19T10:18:23.591255Z",
          "iopub.status.idle": "2024-06-19T10:18:23.609293Z",
          "shell.execute_reply.started": "2024-06-19T10:18:23.591219Z",
          "shell.execute_reply": "2024-06-19T10:18:23.608248Z"
        },
        "trusted": true,
        "id": "tB8zJVZYCXWR"
      },
      "execution_count": null,
      "outputs": []
    },
    {
      "cell_type": "code",
      "source": [
        "matrices=r2_score(pre,y_test)\n",
        "matrices"
      ],
      "metadata": {
        "execution": {
          "iopub.status.busy": "2024-06-19T10:18:23.610591Z",
          "iopub.execute_input": "2024-06-19T10:18:23.610903Z",
          "iopub.status.idle": "2024-06-19T10:18:23.618269Z",
          "shell.execute_reply.started": "2024-06-19T10:18:23.610879Z",
          "shell.execute_reply": "2024-06-19T10:18:23.617195Z"
        },
        "trusted": true,
        "id": "x3HSL0wgCXWR"
      },
      "execution_count": null,
      "outputs": []
    },
    {
      "cell_type": "code",
      "source": [],
      "metadata": {
        "id": "r55-Y6UTCXWd"
      },
      "execution_count": null,
      "outputs": []
    }
  ]
}